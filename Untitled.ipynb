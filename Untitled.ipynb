{
 "cells": [
  {
   "cell_type": "code",
   "execution_count": 1,
   "id": "447a963e",
   "metadata": {},
   "outputs": [],
   "source": [
    "# import mediapipe as mp\n",
    "# import cv2\n",
    "# import time\n",
    "\n",
    "# cap_file = cv2.VideoCapture(0)\n",
    "\n",
    "# while cap_file.isOpened():\n",
    "#     start_time = time.time()\n",
    "#     success, image = cap_file.read()\n",
    "#     if not success:\n",
    "#         print(\"empty camera frame\")\n",
    "#         continue\n",
    "#     image = cv2.flip(image, 1)\n",
    "#     cv2.imshow('holistic detection', image)\n",
    "#     cv2.imwrite('temp.jpg',image)\n",
    "#     time.sleep(1)\n",
    "#     if cv2.waitKey(5) & 0xFF == 27:\n",
    "#         break\n",
    "\n",
    "# cap_file.release()"
   ]
  },
  {
   "cell_type": "code",
   "execution_count": null,
   "id": "c9d27888",
   "metadata": {},
   "outputs": [],
   "source": [
    "# import mediapipe as mp\n",
    "# import cv2\n",
    "# import time\n",
    "\n",
    "# cap_file = cv2.VideoCapture(0)\n",
    "\n",
    "# while cap_file.isOpened():\n",
    "#     start_time = time.time()\n",
    "#     success, image = cap_file.read()\n",
    "#     if not success:\n",
    "#         print(\"empty camera frame\")\n",
    "#         continue\n",
    "#     image = cv2.flip(image, 1)\n",
    "#     cv2.imshow('holistic detection', image)\n",
    "#     if cv2.waitKey(5) & 0xFF == 27:\n",
    "#         break\n",
    "\n",
    "# cap_file.release()"
   ]
  },
  {
   "cell_type": "code",
   "execution_count": 1,
   "id": "6a059ea2",
   "metadata": {},
   "outputs": [],
   "source": [
    "import numpy as np\n",
    "import cv2 as cv\n",
    "import glob\n",
    "\n",
    "# ワールド座標系におけるキャリブレーションボードの各点の座標\n",
    "# (0,0,0), (1,0,0), (2,0,0) ....,(6,5,0)\n",
    "objp = np.zeros((6*7,3), np.float32)\n",
    "objp[:,:2] = np.mgrid[0:7,0:6].T.reshape(-1,2)\n",
    "\n",
    "# キャリブレーションで利用する座標\n",
    "objpoints = [] # 3d point in real world space\n",
    "imgpoints = [] # 2d points in image plane.\n",
    "\n",
    "# cornerSubPix の閾値\n",
    "criteria = (cv.TERM_CRITERIA_EPS + cv.TERM_CRITERIA_MAX_ITER, 30, 0.001)\n",
    "\n",
    "images = glob.glob('temp.jpg')\n",
    "for fname in images:\n",
    "    img = cv.imread(fname)\n",
    "\n",
    "    # グレースケールで利用\n",
    "    gray = cv.cvtColor(img, cv.COLOR_BGR2GRAY)\n",
    "\n",
    "    # キャリブレーションボード内の点の座標を取得\n",
    "    ret, corners = cv.findChessboardCorners(gray, (7,6), None)\n",
    "\n",
    "    # キャリブレーションのために結果を保存\n",
    "    if ret == True:\n",
    "        objpoints.append(objp)\n",
    "\n",
    "        # 座標の精度を上げる\n",
    "        corners2 = cv.cornerSubPix(gray, corners, (11,11), (-1,-1), criteria)\n",
    "        imgpoints.append(corners2)\n",
    "\n",
    "        # 確認のため画像を表示\n",
    "        cv.drawChessboardCorners(img, (7,6), corners2, ret)\n",
    "        cv.imshow('img', img)\n",
    "        cv.waitKey(0)\n",
    "cv.destroyAllWindows()"
   ]
  },
  {
   "cell_type": "code",
   "execution_count": null,
   "id": "d78e8ec4",
   "metadata": {},
   "outputs": [],
   "source": [
    "# err, KK, distCoeffs, rvecs, tvecs = cv.calibrateCamera(objpoints, imgpoints, imageSize, None, None)"
   ]
  },
  {
   "cell_type": "code",
   "execution_count": null,
   "id": "5599500d",
   "metadata": {},
   "outputs": [],
   "source": [
    "# targetImage = cv.imread('left12.jpg')\n",
    "# targetImageSize = targetImage.shape[:2][::-1]\n",
    "\n",
    "# alpha = 1\n",
    "# newKK, roiSize = cv.getOptimalNewCameraMatrix(KK, distCoeffs, targetImageSize, alpha, targetImageSize)\n",
    "\n",
    "# mapX, mapY = cv.initUndistortRectifyMap(KK, distCoeffs, None, newKK, targetImageSize, cv.CV_32FC1)\n",
    "\n",
    "# undistortedImage = cv.remap(targetImage, mapX, mapY, cv.INTER_LINEAR)\n",
    "\n",
    "# x, y, w, h = roiSize\n",
    "# undistortedImage2 = undistortedImage[y:y+h, x:x+w]\n",
    "\n",
    "# cv.imshow('undistortedImage', undistortedImage)\n",
    "# cv.imshow('undistortedImage2', undistortedImage2)\n",
    "# cv.waitKey()\n",
    "\n"
   ]
  }
 ],
 "metadata": {
  "kernelspec": {
   "display_name": "Python 3 (ipykernel)",
   "language": "python",
   "name": "python3"
  },
  "language_info": {
   "codemirror_mode": {
    "name": "ipython",
    "version": 3
   },
   "file_extension": ".py",
   "mimetype": "text/x-python",
   "name": "python",
   "nbconvert_exporter": "python",
   "pygments_lexer": "ipython3",
   "version": "3.10.3"
  }
 },
 "nbformat": 4,
 "nbformat_minor": 5
}
